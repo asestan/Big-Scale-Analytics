{
  "nbformat": 4,
  "nbformat_minor": 0,
  "metadata": {
    "colab": {
      "name": "projet_tesla_Preprocessing.ipynb",
      "provenance": [],
      "collapsed_sections": []
    },
    "kernelspec": {
      "display_name": "Python 3",
      "name": "python3"
    },
    "language_info": {
      "name": "python"
    }
  },
  "cells": [
    {
      "cell_type": "code",
      "metadata": {
        "colab": {
          "base_uri": "https://localhost:8080/"
        },
        "id": "eVruldSbA3F-",
        "outputId": "88622791-0e95-43dd-9051-331891d5451a"
      },
      "source": [
        "#Download spacy library\n",
        "!python -m spacy download fr_core_news_sm"
      ],
      "execution_count": 1,
      "outputs": [
        {
          "output_type": "stream",
          "text": [
            "Requirement already satisfied: fr_core_news_sm==2.2.5 from https://github.com/explosion/spacy-models/releases/download/fr_core_news_sm-2.2.5/fr_core_news_sm-2.2.5.tar.gz#egg=fr_core_news_sm==2.2.5 in /usr/local/lib/python3.7/dist-packages (2.2.5)\n",
            "Requirement already satisfied: spacy>=2.2.2 in /usr/local/lib/python3.7/dist-packages (from fr_core_news_sm==2.2.5) (2.2.4)\n",
            "Requirement already satisfied: thinc==7.4.0 in /usr/local/lib/python3.7/dist-packages (from spacy>=2.2.2->fr_core_news_sm==2.2.5) (7.4.0)\n",
            "Requirement already satisfied: tqdm<5.0.0,>=4.38.0 in /usr/local/lib/python3.7/dist-packages (from spacy>=2.2.2->fr_core_news_sm==2.2.5) (4.41.1)\n",
            "Requirement already satisfied: numpy>=1.15.0 in /usr/local/lib/python3.7/dist-packages (from spacy>=2.2.2->fr_core_news_sm==2.2.5) (1.19.5)\n",
            "Requirement already satisfied: murmurhash<1.1.0,>=0.28.0 in /usr/local/lib/python3.7/dist-packages (from spacy>=2.2.2->fr_core_news_sm==2.2.5) (1.0.5)\n",
            "Requirement already satisfied: srsly<1.1.0,>=1.0.2 in /usr/local/lib/python3.7/dist-packages (from spacy>=2.2.2->fr_core_news_sm==2.2.5) (1.0.5)\n",
            "Requirement already satisfied: plac<1.2.0,>=0.9.6 in /usr/local/lib/python3.7/dist-packages (from spacy>=2.2.2->fr_core_news_sm==2.2.5) (1.1.3)\n",
            "Requirement already satisfied: preshed<3.1.0,>=3.0.2 in /usr/local/lib/python3.7/dist-packages (from spacy>=2.2.2->fr_core_news_sm==2.2.5) (3.0.5)\n",
            "Requirement already satisfied: catalogue<1.1.0,>=0.0.7 in /usr/local/lib/python3.7/dist-packages (from spacy>=2.2.2->fr_core_news_sm==2.2.5) (1.0.0)\n",
            "Requirement already satisfied: setuptools in /usr/local/lib/python3.7/dist-packages (from spacy>=2.2.2->fr_core_news_sm==2.2.5) (56.1.0)\n",
            "Requirement already satisfied: blis<0.5.0,>=0.4.0 in /usr/local/lib/python3.7/dist-packages (from spacy>=2.2.2->fr_core_news_sm==2.2.5) (0.4.1)\n",
            "Requirement already satisfied: cymem<2.1.0,>=2.0.2 in /usr/local/lib/python3.7/dist-packages (from spacy>=2.2.2->fr_core_news_sm==2.2.5) (2.0.5)\n",
            "Requirement already satisfied: requests<3.0.0,>=2.13.0 in /usr/local/lib/python3.7/dist-packages (from spacy>=2.2.2->fr_core_news_sm==2.2.5) (2.23.0)\n",
            "Requirement already satisfied: wasabi<1.1.0,>=0.4.0 in /usr/local/lib/python3.7/dist-packages (from spacy>=2.2.2->fr_core_news_sm==2.2.5) (0.8.2)\n",
            "Requirement already satisfied: importlib-metadata>=0.20; python_version < \"3.8\" in /usr/local/lib/python3.7/dist-packages (from catalogue<1.1.0,>=0.0.7->spacy>=2.2.2->fr_core_news_sm==2.2.5) (4.0.1)\n",
            "Requirement already satisfied: urllib3!=1.25.0,!=1.25.1,<1.26,>=1.21.1 in /usr/local/lib/python3.7/dist-packages (from requests<3.0.0,>=2.13.0->spacy>=2.2.2->fr_core_news_sm==2.2.5) (1.24.3)\n",
            "Requirement already satisfied: chardet<4,>=3.0.2 in /usr/local/lib/python3.7/dist-packages (from requests<3.0.0,>=2.13.0->spacy>=2.2.2->fr_core_news_sm==2.2.5) (3.0.4)\n",
            "Requirement already satisfied: idna<3,>=2.5 in /usr/local/lib/python3.7/dist-packages (from requests<3.0.0,>=2.13.0->spacy>=2.2.2->fr_core_news_sm==2.2.5) (2.10)\n",
            "Requirement already satisfied: certifi>=2017.4.17 in /usr/local/lib/python3.7/dist-packages (from requests<3.0.0,>=2.13.0->spacy>=2.2.2->fr_core_news_sm==2.2.5) (2020.12.5)\n",
            "Requirement already satisfied: zipp>=0.5 in /usr/local/lib/python3.7/dist-packages (from importlib-metadata>=0.20; python_version < \"3.8\"->catalogue<1.1.0,>=0.0.7->spacy>=2.2.2->fr_core_news_sm==2.2.5) (3.4.1)\n",
            "Requirement already satisfied: typing-extensions>=3.6.4; python_version < \"3.8\" in /usr/local/lib/python3.7/dist-packages (from importlib-metadata>=0.20; python_version < \"3.8\"->catalogue<1.1.0,>=0.0.7->spacy>=2.2.2->fr_core_news_sm==2.2.5) (3.7.4.3)\n",
            "\u001b[38;5;2m✔ Download and installation successful\u001b[0m\n",
            "You can now load the model via spacy.load('fr_core_news_sm')\n"
          ],
          "name": "stdout"
        }
      ]
    },
    {
      "cell_type": "code",
      "metadata": {
        "id": "PnchSjQe5lMM"
      },
      "source": [
        "#Importing required packages\n",
        "import pandas as pd\n",
        "import seaborn as sns\n",
        "import nltk\n",
        "import matplotlib.pyplot as plt\n",
        "import spacy\n",
        "from spacy.lang.en.stop_words import STOP_WORDS\n",
        "from spacy.lang.en import English\n",
        "import numpy as np\n",
        "import gensim\n",
        "from sklearn import datasets\n",
        "from sklearn.base import TransformerMixin\n",
        "from sklearn.feature_extraction.text import TfidfVectorizer\n",
        "from sklearn.linear_model import LogisticRegression\n",
        "from sklearn.metrics import confusion_matrix, accuracy_score, precision_score, recall_score, f1_score\n",
        "from sklearn.model_selection import GridSearchCV\n",
        "from sklearn.pipeline import Pipeline\n",
        "from sklearn.preprocessing import LabelEncoder, OneHotEncoder, StandardScaler\n",
        "from sklearn.utils.multiclass import unique_labels\n",
        "import string"
      ],
      "execution_count": 2,
      "outputs": []
    },
    {
      "cell_type": "code",
      "metadata": {
        "colab": {
          "base_uri": "https://localhost:8080/"
        },
        "id": "BDYk2E-PlatK",
        "outputId": "a3bcc925-2e4d-453a-f897-50446f3375e7"
      },
      "source": [
        "nltk.download('punkt')"
      ],
      "execution_count": 3,
      "outputs": [
        {
          "output_type": "stream",
          "text": [
            "[nltk_data] Downloading package punkt to /root/nltk_data...\n",
            "[nltk_data]   Package punkt is already up-to-date!\n"
          ],
          "name": "stdout"
        },
        {
          "output_type": "execute_result",
          "data": {
            "text/plain": [
              "True"
            ]
          },
          "metadata": {
            "tags": []
          },
          "execution_count": 3
        }
      ]
    },
    {
      "cell_type": "code",
      "metadata": {
        "id": "SQL_XXku5oIm"
      },
      "source": [
        "#Import data (cognates and train data Aicrowd)\n",
        "\n",
        "Sentences = \"https://raw.githubusercontent.com/TetraFaal/Big-Scale-Analytics-2021-Tesla/main/Data/Dataset_Aicrowd/22fdbaea-415d-4685-8132-1916959ca359_train.csv\"\n",
        "Sentences = pd.read_csv(Sentences)\n",
        "Sentences.columns = ['Text','Difficulty']\n",
        "\n",
        "Cognates = \"https://raw.githubusercontent.com/TetraFaal/Big-Scale-Analytics-2021-Tesla/main/Data/Cognates/Cognates.csv\"\n",
        "Cognates = pd.read_csv(Cognates)\n",
        "\n",
        "CognatesGlossary = \"https://raw.githubusercontent.com/TetraFaal/Big-Scale-Analytics-2021-Tesla/main/Data/Cognates/glossaryCognates.csv\"\n",
        "CognatesGlossary = pd.read_csv(CognatesGlossary)"
      ],
      "execution_count": 4,
      "outputs": []
    },
    {
      "cell_type": "code",
      "metadata": {
        "id": "lQUA8uahZq8j"
      },
      "source": [
        "#Preprocess the punctuation and digits\n",
        "def remove_punctuations(text):\n",
        "    punctuations = '\\!\"#$%&()*+,./:;<=>?@[\\]_{|}~'\n",
        "    for punctuation in punctuations:\n",
        "        text = text.replace(punctuation, '')\n",
        "        text = text.replace('-', ' ')\n",
        "    return text\n",
        "\n",
        "def remove_digits(text):\n",
        "    for digits in string.digits:\n",
        "        text = text.replace(digits, '')\n",
        "    return text\n",
        "Sentences.columns = ['Text','Difficulty']\n",
        "Sentences[\"Text\"] = Sentences['Text'].apply(remove_digits)\n",
        "\n",
        "Sentences[\"Text\"] = Sentences['Text'].apply(remove_punctuations)"
      ],
      "execution_count": 5,
      "outputs": []
    },
    {
      "cell_type": "code",
      "metadata": {
        "colab": {
          "base_uri": "https://localhost:8080/",
          "height": 202
        },
        "id": "kEmmAx5U6P6l",
        "outputId": "e2bad96f-11d0-4ff0-989f-8517c51b9c80"
      },
      "source": [
        "Cognates.head()"
      ],
      "execution_count": 6,
      "outputs": [
        {
          "output_type": "execute_result",
          "data": {
            "text/html": [
              "<div>\n",
              "<style scoped>\n",
              "    .dataframe tbody tr th:only-of-type {\n",
              "        vertical-align: middle;\n",
              "    }\n",
              "\n",
              "    .dataframe tbody tr th {\n",
              "        vertical-align: top;\n",
              "    }\n",
              "\n",
              "    .dataframe thead th {\n",
              "        text-align: right;\n",
              "    }\n",
              "</style>\n",
              "<table border=\"1\" class=\"dataframe\">\n",
              "  <thead>\n",
              "    <tr style=\"text-align: right;\">\n",
              "      <th></th>\n",
              "      <th>Cognates</th>\n",
              "    </tr>\n",
              "  </thead>\n",
              "  <tbody>\n",
              "    <tr>\n",
              "      <th>0</th>\n",
              "      <td>abattoir</td>\n",
              "    </tr>\n",
              "    <tr>\n",
              "      <th>1</th>\n",
              "      <td>abdication</td>\n",
              "    </tr>\n",
              "    <tr>\n",
              "      <th>2</th>\n",
              "      <td>abdominal</td>\n",
              "    </tr>\n",
              "    <tr>\n",
              "      <th>3</th>\n",
              "      <td>aberrant</td>\n",
              "    </tr>\n",
              "    <tr>\n",
              "      <th>4</th>\n",
              "      <td>aberration</td>\n",
              "    </tr>\n",
              "  </tbody>\n",
              "</table>\n",
              "</div>"
            ],
            "text/plain": [
              "     Cognates\n",
              "0    abattoir\n",
              "1  abdication\n",
              "2   abdominal\n",
              "3    aberrant\n",
              "4  aberration"
            ]
          },
          "metadata": {
            "tags": []
          },
          "execution_count": 6
        }
      ]
    },
    {
      "cell_type": "code",
      "metadata": {
        "colab": {
          "base_uri": "https://localhost:8080/",
          "height": 202
        },
        "id": "qCJEL_UAv_BN",
        "outputId": "85f2643f-7ca8-4a5d-8bf5-86871cba56d9"
      },
      "source": [
        "CognatesGlossary.head()"
      ],
      "execution_count": 7,
      "outputs": [
        {
          "output_type": "execute_result",
          "data": {
            "text/html": [
              "<div>\n",
              "<style scoped>\n",
              "    .dataframe tbody tr th:only-of-type {\n",
              "        vertical-align: middle;\n",
              "    }\n",
              "\n",
              "    .dataframe tbody tr th {\n",
              "        vertical-align: top;\n",
              "    }\n",
              "\n",
              "    .dataframe thead th {\n",
              "        text-align: right;\n",
              "    }\n",
              "</style>\n",
              "<table border=\"1\" class=\"dataframe\">\n",
              "  <thead>\n",
              "    <tr style=\"text-align: right;\">\n",
              "      <th></th>\n",
              "      <th>CognatesEN</th>\n",
              "      <th>CognatesFR</th>\n",
              "    </tr>\n",
              "  </thead>\n",
              "  <tbody>\n",
              "    <tr>\n",
              "      <th>0</th>\n",
              "      <td>absolutely</td>\n",
              "      <td>absolument</td>\n",
              "    </tr>\n",
              "    <tr>\n",
              "      <th>1</th>\n",
              "      <td>abundance</td>\n",
              "      <td>abondance</td>\n",
              "    </tr>\n",
              "    <tr>\n",
              "      <th>2</th>\n",
              "      <td>abuse</td>\n",
              "      <td>abuser</td>\n",
              "    </tr>\n",
              "    <tr>\n",
              "      <th>3</th>\n",
              "      <td>accelerate (to)</td>\n",
              "      <td>accélérer</td>\n",
              "    </tr>\n",
              "    <tr>\n",
              "      <th>4</th>\n",
              "      <td>accentuate (to)</td>\n",
              "      <td>accentuer</td>\n",
              "    </tr>\n",
              "  </tbody>\n",
              "</table>\n",
              "</div>"
            ],
            "text/plain": [
              "        CognatesEN  CognatesFR\n",
              "0       absolutely  absolument\n",
              "1        abundance   abondance\n",
              "2            abuse      abuser\n",
              "3  accelerate (to)   accélérer\n",
              "4  accentuate (to)   accentuer"
            ]
          },
          "metadata": {
            "tags": []
          },
          "execution_count": 7
        }
      ]
    },
    {
      "cell_type": "code",
      "metadata": {
        "colab": {
          "base_uri": "https://localhost:8080/"
        },
        "id": "v9fpKWV5wBP_",
        "outputId": "d8c9ef12-a24b-41c8-d0b2-cc52b1caa644"
      },
      "source": [
        "#Create a cognates list and delete duplicates\n",
        "ListCo = []\n",
        "for cognate  in CognatesGlossary.CognatesFR:\n",
        "  ListCo.append(cognate)\n",
        "for cognate  in Cognates.Cognates:\n",
        "  ListCo.append(cognate)\n",
        "ListCognates = list(set(ListCo))\n",
        "print(ListCognates)\n",
        "print(len(ListCognates))"
      ],
      "execution_count": 8,
      "outputs": [
        {
          "output_type": "stream",
          "text": [
            "['placement', 'impertinence', 'air', 'phylum', 'correction', 'lobe', 'paraphrase', 'trauma', 'navigation', 'absolution', 'expérience', 'satisfaction', 'talc', 'indépendance', 'vestibule', 'conversion', 'cassette', 'investiture', 'justifiable', 'quiche', 'surplus', 'isotope\\xa0', 'veto', 'desperado', 'narration', 'vaudeville', 'susceptible', 'gorille', 'constriction', 'magnifique', 'microphone', 'ersatz', 'ricochet', 'ramification', 'castration', 'kilt', 'stagnant', 'vivisection', 'royal', 'crocodile', 'addition', 'canyon', 'colonel', 'restaurant', 'accélérer', 'barge', 'catalogue', 'usuelle', 'digestible', 'combat', 'terrain', 'libido', 'actuaire', 'nerveux', 'koala', 'caméra', 'suspicion', 'smog', 'mode', 'marionnette', 'amusement', 'barrage', 'efficient', 'magnitude', 'sardine', 'généreux', 'civiliser', 'intermission', 'sanction', 'indivisible', 'introduire', 'affectation', 'pigment', 'aberration', 'contraception', 'dictatorial', 'imitable', 'prototype', 'horticulture', 'urine', 'colonie', 'album', 'retirer', 'musculature', 'mezzanine', 'scorpion', 'insolence', 'terminer', 'style', 'océan', 'violet', 'imperfection', 'senior', 'magique', 'locale', 'inimitable', 'convertir', 'coalition', 'permanente', 'steak', 'explicable', 'confus', 'ogre', 'extroversion', 'baron', 'macabre', 'pause', 'villa', 'matrimonial', 'trafic', 'catamaran', 'interruption', 'destructible', 'nylon \\xa0', 'distraction', 'arsenic', 'intéressant', 'vital', 'opposition', 'impossible', 'domination', 'convalescent', 'suicide', 'oxymoron', 'paparazzi', 'postal', 'bazooka', 'savant', 'obstruction', 'subordination', 'recognition', 'rotor', 'locomotive', 'prostate', 'saint', 'étudier', 'minimum', 'général', 'gesticulation', 'kaput', 'carnage', 'hangar', 'servitude', 'latent', 'nomination', 'céramique', 'ambulance', 'transformation', 'estimation', 'expert', 'abuser', 'coagulant', 'incidence', 'absent', 'objet', 'malachite', 'sculpture', 'intuition', 'brilliant', 'suspension', 'empire', 'serpent', 'vibrant', 'trio', 'intéressante', 'questionnaire', 'cheminée', 'colossal', 'passion', 'verdict', 'oblong', 'usage', 'vagabond', 'promenade', 'orange', 'lucre', 'saga', 'dominance', 'injustice', 'torture', 'gluten', 'entrer', 'infestation', 'phosphorescent', 'multitude', 'insatiable', 'palindrome', 'distribuer', 'exposition', 'abattoir', 'laser', 'sandwich', 'participation', 'aficionado', 'sketch', 'importation', 'divergence', 'inspiration', 'agitation', 'différent', 'brigade', 'extravagance', 'uranium', 'palpable', 'parc', 'compact', 'symposium', 'prudent', 'engagement', 'perforation', 'vérifier', 'stimulation', 'pollen', 'tonal', 'brusque', 'nomenclature', 'W.C.', 'impression', 'abstinence', 'collaboration', 'notion', 'adolescent', 'architectural', 'dessert', 'invasion', 'brochure', 'insurrection', 'brave', 'simple', 'crime', 'subliminal', 'convergent', 'ventilation', 'problème', 'referendum', 'perceptible', 'marsupial', 'chaos', 'menthol', 'nodule', 'capitaine', 'combustion', 'mutation', 'slalom', 'intestinal', 'rectifiable', 'vodka', 'carbonate', 'normal', 'silhouette', 'statistique', 'outsider', 'choral', 'coagulation', 'supervision', 'générale', 'sobriquet', 'éléphant', 'gourmet', 'verbiage', 'alliance', 'plumage', 'alpha', 'infraction', 'animal', 'podium', 'handicap', 'octave', 'thorax', 'pH', 'commerce', 'occupant', 'horde', 'prescription', 'mixture', 'couleur', 'assassin', 'automatique', 'mutant', 'docile', 'glorieuse', 'portable', 'décider', 'abstinent', 'bile', 'hôtel', 'balsa', 'gadget', 'village', 'inclination', 'opossum', 'funérailles', 'immature', 'culture', 'catastrophe', 'micron', 'dealer', 'conjecture', 'proportion', 'converser', 'calorie', 'lamenter', 'congestion', 'purification \\xa0', 'programme', 'art', 'estimable', 'exultation \\xa0', 'portrait', 'prostration', 'prospectus', 'commandant', 'manufacture', 'détenir', 'prison', 'affection', 'accident', 'contagieuse', 'submersion', 'information', 'indestructible', 'maestro', 'estimer', 'microscope', 'influence', 'confinement', 'colonial', 'scalpel', 'trident', 'zygote', 'abstraction', 'cellulose', 'relaxation', 'agile', 'incorrigible', 'progression', 'installation', 'bonus', 'gazelle', 'date', 'vassal', 'proverbial', 'bigot', 'fameux', 'optimisme', 'action', 'suave', 'municipal', 'dimension', 'électricité', 'intersection', 'pivot', 'liste', 'convergence', 'inaccessible', 'insertion', 'glorieux', 'jargon', 'insulter', 'absence', 'stupide', 'confession', 'omelette', 'plus', 'omission', 'jury', 'solo', 'corroboration', 'miniature', 'dorsal', 'potion', 'unifier', 'inexact', 'protection', 'incandescent', 'compote', 'discrimination', 'acteur', 'bouquet', 'innocent', 'excuse', 'boa', 'camaraderie', 'conservation', 'indubitable', 'suffrage', 'discordant', 'simulation', 'magnolia', 'augmentation', 'version', 'panique', 'insecticide', 'impulsion', 'réunion', 'sodium', 'rumination', 'invention', 'marathon', 'prince', 'dollar', 'cardinal', 'kitsch', 'structural', 'papyrus', 'convalescence', 'base', 'posture', 'application', 'moment', 'interrompre', 'siphon', 'hooligan', 'acrobatique', 'photo', 'insolent', 'multiplication', 'exploration', 'apartheid', 'réalité', 'opinion', 'regret', 'phallus', 'jaguar', 'blazer', 'bistro', 'indication', 'animation', 'immigrant', 'percussion', 'parasite', 'ambitieux', 'bible', 'abdication', 'attribution', 'perception', 'arsenal', 'intrigue', 'affiliation', 'transplant', 'compression', 'revolver', 'pastoral', 'banquet', 'notification', 'cola', 'vaseline', 'placebo', 'altercation', 'circulaire', 'coordination', 'ghetto', 'radius', 'aura', 'radium', 'rutabaga', 'commun', 'ratio', 'thymus', 'liquidation', 'piano', 'quatrain', 'bicarbonate', 'distance', 'marginal', 'bourgeois', 'moral', 'audit', 'OK', 'tourniquet', 'plausible', 'île', 'opium', 'adorer', 'mission', 'incapable', 'aviation \\xa0', 'occurrence', 'activité', 'supplication', 'tunnel', 'projectile', 'possession', 'danger', 'whisky', 'variation', 'macho', 'nadir', 'longitudinal', 'vertical', 'inséparable', 'combustible', 'confusion', 'immense', 'zombie', 'archives', 'permanent', 'ultimatum', 'procession', 'cordial', 'suggestion', 'cafétéria', 'dose', 'automation', 'triangle', 'innocence', 'halo', 'infection', 'annoncer', 'maximum', 'dilution', 'martial', 'racial', 'honneur', 'amputation', 'marital', 'famille', 'satellite', 'Idée', 'correct', 'rectangle', 'partial', 'annotation', 'yacht', 'bikini', 'bizarre', 'avarice', 'mention', 'mécanisme', 'central', 'interception', 'profusion', 'diva', 'artisan', 'énergie', 'humaine', 'aire', 'hexagonal', 'module', 'silicone', 'vigilance', 'remède', 'investigation', 'troupe', 'passable', 'illustration', 'boycott', 'costume', 'mirage', 'couple', 'suffocation', 'gratifier', 'radial', 'client', 'exaltation', 'satire', 'indirect', 'pigeon', 'viral', 'volition', 'turbine', 'angora', 'impatience', 'patient', 'ordinaire', 'concordance', 'silence', 'pertinent', 'commencement', 'yoga', 'spectral', 'qualification', 'malaria', 'abdominal', 'jazz', 'assurance', 'protestation', 'concave', 'dominion', 'cycle', 'muscle', 'testament', 'inventer', 'respiration', 'latrines', 'turban', 'partisan', 'quartz', 'identification', 'roche', 'imagination', 'admiration', 'magazine', 'plasma', 'ranch', 'extravagant', 'leçon', 'jovial', 'digestion', 'menstruation', 'district', 'description', 'série', 'spectacle', 'quota\\xa0', 'charitable', 'continuer', 'inspection', 'coma', 'jurisprudence', 'stipulation', 'tomate', 'luxuriant \\xa0', 'thermal', 'refuge', 'communal', 'fruit', 'implication', 'source', 'exfoliation', 'signature', 'curiosité', 'parfum', 'hippopotame', 'shrapnel', 'jamboree', 'décembre', 'palpitation', 'piccolo', 'suppression', 'directement', 'socialiste', 'permanence', 'interrogation', 'termite', 'nirvana', 'taxable', 'tribunal', 'chagrin', 'extraction', 'infiltration', 'admonition', 'instrumentation', 'lucide', 'diatribe', 'route', 'liqueur', 'coyote', 'palais', 'ancestral', 'médaille', 'consul', 'population', 'crucial', 'descendant', 'pantomime', 'virginal', 'situation', 'judo', 'chintz', 'splendide', 'riche', 'panda', 'humain', 'imperceptible', 'mohair', 'inaction', 'impact', 'prose', 'importance', 'infertile', 'cardigan', 'intrusion', 'secret', 'migration', 'opération', 'imitation', 'instigation', 'classifier', 'machination', 'combinaison', 'contact', 'tandem', 'ignorance', 'téléphone', 'vaginal', 'budget', 'carat', 'ignorante', 'vocal', 'provincial', 'dictateur', 'accentuation', 'maturation', 'quadrant', 'adaptable', 'vision', 'subterfuge', 'décisive', 'synagogue', 'coefficient', 'mobile', 'console', 'absorption', 'idéalisme', 'arable', 'monumental', 'astringent', 'leader', 'opèrer', 'instrument', 'distinction', 'suspect', 'paraliser', 'zone', 'primordial', 'impatient', 'contribution', 'expulsion', 'transaction', 'question', 'collation', 'imposition', 'migraine', 'contradiction', 'music', 'cartilage', 'quark', 'échapper', 'chauffeur', 'différente', 'directeur', 'fermenter', 'affront', 'assertion', 'pedigree', 'parent', 'ordination', 'corral', 'pollution', 'six', 'herbivore', 'compliment', 'serf', 'extermination', 'commando', 'lance', 'dandy', 'admettre', 'abstention', 'tulle', 'déserter', 'causal', 'concept', 'titillation', 'continuum', 'agonie', 'important', 'sanatorium', 'bungalow\\xa0', 'féroce', 'dahlia', 'embargo', 'piranha', 'finalement', 'audition', 'ruse', 'despotisme', 'objection', 'moustache', 'tenable', 'divan', 'diffusion', 'biscuit', 'censure', 'bifocal', 'kumquat \\xa0', 'ordinal', 'rictus', 'barbecue', 'inadmissible', 'minutes', 'ambivalence', 'caste', 'quintessence', 'extradition', 'tennis', 'constellation', 'gain', 'diligent', 'latex', 'lieutenant', 'manuel', 'patience', 'obstacle', 'sensation', 'tradition', 'affable', 'admirable', 'obsession', 'consulter', 'justification', 'consolidation', 'désastre', 'pectoral', 'iris', 'export', 'placenta', 'lassitude', 'compassion', 'pirate', 'compagnie', 'apostrophe', 'naval', 'taxi', 'clam', 'magnétique', 'spécialement', 'perfection', 'biceps', 'manipulation', 'thermostat', 'interminable', 'parasol', 'occupation', 'sorbet', 'irritation', 'diction', 'fragile', 'notation', 'napalm', 'orientation', 'gratitude', 'stimulant', 'concentration', 'reconstitution', 'vocation', 'proclamation', 'enviable', 'idiot', 'aspartame', 'identifiable', 'mars', 'tension', 'indigo', 'consultant', 'terminal', 'subdivision', 'notifier', 'certitude', 'africain', 'drive', 'indispensable', 'convention', 'inclusion', 'consolation', 'bracelet', 'transcription', 'dialogue', 'bronze', 'professionnel', 'pipeline', 'vote\\xa0', 'solarium', 'valve', 'anecdote', 'suspense', 'administration', 'projection', 'persuasion', 'introversion', 'succulence', 'comporter', 'ignorant', 'procuration', 'message', 'documentation', 'justifier', 'postnatal', 'parental', 'hobby', 'groggy', 'autographe', 'existence', 'nacre', 'graphite', 'drainage', 'spinal', 'hiatus', 'agriculture', 'juvénile', 'torrent', 'délicieuse', 'confrontation', 'mystification', 'synopsis\\xa0', 'exotique', 'oblique', 'sublime', 'conversation', 'introspection', 'rectitude', 'intellect', 'soprano', 'interlude', 'végétales', 'cellulite', 'psoriasis', 'africaine', 'favorable', 'métal', 'nectar', 'triceps', 'acolyte', 'jubilant', 'évidemment', 'rupture', 'chromosome', 'succulent', 'consensus', 'radian', 'hypocrite \\xa0', 'appétit', 'spéciale', 'aptitude', 'vacant', 'cancer', 'quiet', 'horoscope', 'courage', 'monument', 'verve', 'police', 'généreuse', 'gnome', 'insérer', 'calculable', 'naturelle', 'membrane', 'disciple', 'watt', 'complication', 'perspective', 'indigent', 'cigarette', 'original', 'vampire', 'abrasion', 'diode', 'mystique \\xa0', 'igloo', 'planétarium', 'volume', 'cyclone', 'karma', 'cervical', 'attraper', 'destination', 'automobile', 'picaresque', 'sterling', 'panorama', 'inoculation', 'humble', 'clarification', 'distribution', 'infrastructure', 'exhibition', 'donation', 'incubation', 'normalement', 'ciment', 'zoom', 'excellent', 'excursion', 'reproduction', 'radiant', 'investiguer', 'triumphant', 'optimal', 'radon', 'hormone', 'notable', 'inhalation', 'octane', 'exactement', 'condiment', 'surface', 'computation', 'opulence', 'mortification', 'magicien', 'herbicide', 'imaginaire', 'composite', 'tirade', 'prohibition', 'interchangeable', 'indignation', 'maritime', 'intelligible', 'illumination', 'août', 'arbitraire', 'dupe', 'ion', 'papa', 'massacre', 'abominable', 'diversion', 'validation', 'tricycle', 'immersion', 'virulent', 'sanctification', 'cruel', 'implacable', 'pastel', 'clan', 'nécessité', 'mémoire', 'choléra', 'texture', 'supposition', 'furieuse', 'dissonant', 'inflammable', 'communication', 'domestication', 'gestation', 'lactose', 'logo', 'audible', 'horizon', 'discipline', 'observatoire', 'assistance', 'irritable', 'cobra', 'alias', 'hôpital', 'difficulté', 'transistor', 'astral', 'ambition', 'luminescence', 'communicable', 'slogan', 'pizza', 'payable', 'corpulent', 'ligament', 'pertinence', 'allergique', 'décrire', 'tarot', 'spiral', 'avalanche', 'intermittent', 'professionnelle', 'soluble', 'distant', 'direction', 'continent', 'port', 'lingerie', 'omniscient', 'servile', 'pratiquer', 'brilliante', 'infatuation', 'anthrax', 'ostentation', 'solidifier', 'beige', 'blizzard', 'gala', 'effective', 'ballet', 'adoption', 'déterminer', 'prairie', 'code', 'division', 'télescope', 'scooter', 'opulent', 'crocus', 'hostile', 'candide', 'occlusion', 'profitable', 'digression', 'contrition', 'simplifier', 'providence', 'religion', 'minimal', 'principal', 'attention', 'agent', 'condition', 'chignon', 'somnolent', 'structure', 'intention', 'histoire', 'conclusion', 'glorification', 'optimum', 'neutron', 'phase', 'interaction', 'inviter', 'exploitation', 'obligation', 'incrédible', 'toast', 'exception', 'démontrer', 'iceberg', 'SOS', 'utiliser', 'employable', 'possible', 'pronominal', 'vigilant', 'ration', 'initiation', 'oppression', 'annihilation', 'chaperon', 'nasal', 'insecte', 'commission', 'gracieuse', 'gouge', 'vice', 'paprika', 'diversification', 'extra', 'vitriol', 'lasso', 'partition', 'dosage', 'penny', 'spatial', 'volley-ball', 'dissolution', 'conviction', 'contour', 'célébrer', 'casino', 'incision', 'compulsion', 'minute', 'beatnik', 'aventure', 'néctar', 'excellence', 'cobalt', 'modification', 'carton', 'ozone \\xa0', 'excusable', 'ego', 'import', 'anaconda', 'endurance', 'spécial', 'restriction', 'côte', 'communion', 'nitrate', 'convivial', 'primate', 'favori', 'nougat', 'mutilation', 'sternum', 'glucose', 'instruction', 'inverse', 'avenue', 'barracuda', 'fantastique', 'céréale', 'passage', 'pestilence', 'intelligent', 'martyr', 'occasion', 'safari', 'violation', 'credo', 'jubilation', 'ultraviolet', 'lion', 'campus', 'xylophone', 'troll', 'patio', 'conscience', 'gradient', 'lentille', 'probable', 'incomparable', 'contingent', 'usuel', 'accuser', 'applicable', 'visiter', 'millet', 'isolation', 'classe', 'champion', 'déclarer', 'gallon', 'bison', 'initiative', 'saturation', 'vortex', 'mucus', 'blouse', 'alphabet', 'léopard', 'cable', 'compléter', 'bicyclette', 'superstition', 'granule', 'implasion', 'guide', 'contagion', 'capture', 'photon', 'accessible', 'calcification', 'coupon', 'miracle', 'photographe', 'multiple', 'cathode', 'collusion', 'succession', 'imminent', 'steppe', 'monologue', 'urinal', 'horrible', 'solstice', 'apocalypse', 'impudent', 'charade', 'monochrome', 'salami', 'hockey', 'exorbitant', 'explosion', 'unique', 'thalamus', 'transparent', 'prostitution', 'égoïste', 'agrégat', 'incessant', 'exportation', 'publication', 'sprint', 'cantaloup', 'architecture', 'incarnation', 'discussion', 'sonnet', 'consonant', 'morgue', 'ignorer', 'polka', 'robot', 'million', 'allusion', 'ossification', 'affirmation', 'capturer', 'encouragement', 'altitude', 'missile', 'suture', 'ambitieuse', 'stature', 'capsule', 'consternation', 'platitude', 'canal', 'polio', 'via', 'irrigable', 'respectable', 'excitable', 'steward', 'majorette', 'arithmétique', 'salaire', 'triumphante', 'quadruple', 'articulation', 'indistinct', 'implorer', 'motivation', 'discuter', 'approximation', 'limitation', 'certain', 'pingouin', 'carnivore', 'intoxication', 'test', 'virus', 'gradation', 'ascension', 'apparition', 'expression', 'kiwi', 'ample', 'angle', 'textile', 'punk', 'bravo', 'recyclable', 'navigable', 'collision', 'septembre', 'nectarine', 'oral', 'centre', 'tic', 'image', 'venimeux', 'boomerang', 'promotion', 'olive', 'parachute', 'prude', 'plantation', 'autoriser', 'immigration', 'dépendre', 'concession', 'usurpation\\xa0', 'ravine', 'crescendo', 'homophone', 'rhododendron', 'caramel', 'marinade', 'appropriation', 'dynamite', 'transgression', 'atlas', 'routine', 'caviar', 'nonchalant', 'civil', 'effort', 'impeccable', 'doctoral', 'argument', 'distillation', 'sophistication', 'musical', 'parfait', 'orifice', 'support', 'accusation', 'présenter', 'niche', 'malnutrition', 'service', 'papier', 'adverbial', 'strict', 'excavation', 'inconsolable', 'confetti', 'localiser', 'intangible', 'totalement', 'contemplation', 'associer', 'apparent', 'arrogant', 'invitation', 'territorial', 'cause', 'alligator', 'turbulence', 'gaz', 'inauguration', 'exalter', 'stop', 'site', 'document', 'adopter', 'abolition', 'panache', 'radiation', 'migrant', 'rugby', 'adorable', 'doctrine', 'planète', 'adroit', 'hyperbole', 'propane', 'institution', 'accent', 'iota', 'extinction', 'enzyme', 'horizontal', 'inversion', 'brutal', 'cavalcade', 'international', 'curry', 'traction', 'crevasse', 'chaste', 'badge', 'abondance', 'composition', 'occidental', 'contrite', 'succinct', 'repentant', 'luminescent', 'terrible', 'sentiment', 'option', 'substitution', 'connotation', 'indolent', 'corruption', 'skiff', 'rural', 'immobile', 'bran', 'radio', 'dissipation', 'pore', 'atmosphère', 'plat', 'local', 'exploit', 'monotone', 'quintuple', 'transition', 'accolade', 'conception', 'heure', 'exclamer', 'chimpanzé', 'cercle', 'modal', 'trace', 'disparaître', 'participer', 'attitude', 'festive', 'kimono', 'production', 'woofer \\xa0', 'girafe', 'iridescent', 'omniscience', 'adjacent', 'exagérer', 'portion', 'indicative', 'indigestion', 'active', 'satin', 'curable', 'improvisation', 'université', 'kayak', 'lactation', 'grotesque', 'voltage', 'affirmative', 'solitude', 'amateur', 'royalties', 'imaginer', 'toboggan', 'artefact', 'salutation', 'insupportable', 'délicieux', 'agence', 'collection', 'menace', 'disposition', 'interjection', 'corset', 'favorite', 'valise', 'habitat', 'instinct', 'orient', 'charlatan', 'accentuer', 'tendon', 'trampoline', 'juxtaposition', 'manifestation', 'glacier', 'opus', 'exact', 'gamma', 'proton', 'hamster', 'provenance', 'pizzeria', 'gracieux', 'camouflage', 'note', 'lithium', 'orchestral', 'misanthrope', 'préparer', 'maintenance', 'intelligence', 'ratification', 'stable', 'svelte', 'guide\\xa0', 'culmination', 'cumin', 'hallucination', 'sabotage', 'eucalyptus', 'malt', 'voter', 'sacrifice', 'morphine', 'artifice', 'segment', 'article', 'comparable', 'duel', 'commensurable', 'pidgin', 'intervention', 'criminel', 'profession', 'fameuse', 'solide', 'dislocation', 'absolument', 'raid', 'artistique', 'respect', 'mannequin', 'subvention', 'accord', 'énorme', 'philodendron', 'nature', 'chrome', 'commentaire', 'cascade', 'rat', 'antique', 'chinchilla', 'irrigation', 'antisocial', 'artiste', 'adverse', 'assimilation', 'effervescence', 'mauve', 'estomac', 'dissection', 'distinct', 'minuscule', 'astronome', 'organiser', 'carafe', 'pickpocket', 'paranormal', 'adolescence', 'impertinent', 'massage', 'imaginable', 'analyser', 'impromptu', 'trait', 'prudente', 'transport', 'violent', 'provocation', 'calcium', 'aspiration', 'diamant', 'nicotine', 'visible', 'domino', 'stalactite', 'gambit', 'introduction', 'barricade', 'reptile', 'visa', 'tube', 'zigzag', 'corridor', 'destitution', 'représenter', 'quinine', 'subversion', 'électrique', 'indulgence', 'dilapidation', 'hélicoptère', 'transit', 'armistice', 'sofa', 'locution', 'anal', 'job', 'plural', 'incrimination', 'pentagonal', 'harmonica', 'banal', 'badminton', 'association', 'cottage', 'oracle', 'compensation', 'physique', 'brigand', 'constitution', 'mayonnaise', 'tonsure', 'biographie', 'effervescent', 'ostensible', 'ode', 'vendetta', 'taxation', 'ridicule', 'galaxie', 'ovulation', 'purge', 'variable', 'violence', 'overdose', 'exemption', 'terminus', 'wallaby', 'jungle', 'trot', 'infernal', 'rotation', 'abomination', 'stalagmite', 'penchant', 'variance', 'disco', 'public', 'novice', 'acupuncture', 'continental', 'inhibition', 'implant', 'configuration', 'contraction', 'national', 'surcharge', 'solidification', 'banane', 'atoll', 'habitable', 'neural', 'adoration', 'lichen', 'bandage', 'dissident', 'samba', 'destruction', 'bastion', 'reconstruction', 'antidote', 'grimace', 'gel', 'diesel', 'firme', 'naturellement', 'microbe', 'cosmos', 'provision', 'visitation', 'décoration', 'golf', 'immoral', 'innovation', 'flexible', 'solution', 'volt', 'pionnier', 'ingratitude', 'acquisition', 'identifier', 'nickel', 'mentor', 'sphinx', 'rival', 'mule', 'corpulence', 'indulgent', 'poignant', 'social', 'plaque', 'ligne', 'onyx', 'participant', 'amplification', 'quantum', 'capitulation', 'nerveuse', 'cousin', 'opaque', 'parade', 'clone', 'tuba', 'lotus', 'pigmentation', 'acacia', 'position', 'ligature', 'cognition', 'excommunication', 'observation', 'dinosaure', 'circuit', 'triple', 'capital', 'adulation', 'illusion', 'examiner', 'irritant', 'hibiscus', 'initial', 'graffiti', 'commercial', 'marina', 'insister', 'coloration', 'verbal', 'munitions', 'naturel', 'latitude', 'immédiatement', 'errant', 'convénient', 'comparer', 'insoluble', 'anticipation', 'compatible', 'double', 'trillion', 'apparaître', 'notice', 'habitation', 'retriever', 'hibernation', 'unification', 'weekend', 'snob', 'batterie', 'potable', 'incurable', 'groupe', 'octobre', 'impartial', 'simplification', 'aberrant', 'constant', 'exporter', 'harem', 'vague', 'cactus', 'contusion', 'sonar', 'inscription', 'scribe', 'vibration', 'province', 'ambivalent', 'nuance', 'tact', 'part', 'infusion', 'machine', 'confirmation', 'divergent', 'prudence', 'substance', 'cage', 'inflammation', 'vain', 'touriste', 'dictionnaire', 'omnipotent', 'statue', 'perversion', 'délicat', 'curieux', 'prologue', 'fasciner', 'technique', 'bandit', 'versus', 'camp', 'nominal', 'patois', 'dental', 'accompagner', 'inflation', 'conciliation', 'nubile', 'dune', 'vogue', 'vaccination', 'inexplicable', 'invisible', 'rose', 'sociable', 'limon', 'déporter', 'globe', 'abject', 'arrogance', 'tactile', 'se retirer', 'docteur', 'cérémonie', 'affliction', 'marcher', 'corrosion', 'accumulation', 'morale', 'coroner', 'potassium', 'turbulent', 'phosphate', 'locomotion', 'comité', 'gravitation', 'admission', 'prestige', 'contagieux', 'collage', 'ginseng', 'lamentation', 'conjugal', 'adaptation', 'stagnation', 'observance', 'condensation', 'invariable', 'lamentable', 'zinc', 'disgrâce', 'script', 'delta', 'nation', 'transmission', 'négocier', 'incompatible', 'intimidation', 'dragon', 'insubordination', 'arcade', 'banjo', 'duplication\\xa0', 'modem', 'pose', 'délicate', 'rechargeable', 'propulsion', 'tanker', 'urgent', 'extraordinaire', 'larynx', 'pacifier', 'sulfate', 'syndrome', 'gangster', 'militant', 'invincible', 'curieuse', 'modifiable', 'tapioca', 'restitution', 'plan', 'fleur', 'contamination', 'capable', 'adulte', 'manuelle', 'importante', 'digital', 'photographie', 'profit', 'scalp', 'brute', 'diminution', 'jockey', 'obédience', 'pixel', 'stress', 'stimulus', 'sermon', 'diagonal', 'télévision', 'duplex', 'science', 'organisme', 'concert', 'dissension', 'interface', 'détruire', 'graduation', 'caricature', 'lotion', 'certification', 'transfusion', 'noble', 'tango', 'jardin', 'insinuation', 'expiration', 'manière', 'plante', 'modifier', 'direct', 'mental', 'zoo', 'alarme', 'propagation', 'radar', 'liaison', 'importer', 'rumba', 'interview', 'cabine', 'riposte', 'garage', 'contracter', 'incident', 'dense', 'long', 'modulation', 'aversion', 'glacial', 'hormonal', 'baptismal', 'construction', 'divorce', 'intense', 'margarine', 'vermouth', 'compost', 'excuser', 'candidature', 'exclusion', 'trompette', 'tempo', 'escalator', 'infantile', 'session', 'pardon', 'omnivore', 'pratique', 'continuation', 'silo', 'improbable', 'témoignage', 'dialectal', 'sauna', 'ski', 'duo', 'cube', 'uniforme', 'expansion', 'abracadabra', 'office', 'kitchenette', 'furieux', 'inexcusable', 'correctement', 'exhortation', 'nonchalance', 'incorrect', 'tangible', 'admirer', 'catharsis', 'vestige', 'activités', 'aquarium', 'motel', 'magenta', 'compilation', 'omnipotence', 'tropical', 'urgence', 'classification', 'surprise', 'radical', 'alto', 'calypso', 'divisible', 'harangue', 'boulevard', 'intact', 'morose']\n",
            "2029\n"
          ],
          "name": "stdout"
        }
      ]
    },
    {
      "cell_type": "code",
      "metadata": {
        "colab": {
          "base_uri": "https://localhost:8080/",
          "height": 356
        },
        "id": "1nx0ge2h6bON",
        "outputId": "322e7086-d6da-4e8c-e75e-a2357dff4572"
      },
      "source": [
        "pd.set_option(\"max_colwidth\", None)\n",
        "Sentences.head(10)"
      ],
      "execution_count": 9,
      "outputs": [
        {
          "output_type": "execute_result",
          "data": {
            "text/html": [
              "<div>\n",
              "<style scoped>\n",
              "    .dataframe tbody tr th:only-of-type {\n",
              "        vertical-align: middle;\n",
              "    }\n",
              "\n",
              "    .dataframe tbody tr th {\n",
              "        vertical-align: top;\n",
              "    }\n",
              "\n",
              "    .dataframe thead th {\n",
              "        text-align: right;\n",
              "    }\n",
              "</style>\n",
              "<table border=\"1\" class=\"dataframe\">\n",
              "  <thead>\n",
              "    <tr style=\"text-align: right;\">\n",
              "      <th></th>\n",
              "      <th>Text</th>\n",
              "      <th>Difficulty</th>\n",
              "    </tr>\n",
              "  </thead>\n",
              "  <tbody>\n",
              "    <tr>\n",
              "      <th>0</th>\n",
              "      <td>C'est pour quand</td>\n",
              "      <td>A1</td>\n",
              "    </tr>\n",
              "    <tr>\n",
              "      <th>1</th>\n",
              "      <td>Je pense que c'est bon</td>\n",
              "      <td>A1</td>\n",
              "    </tr>\n",
              "    <tr>\n",
              "      <th>2</th>\n",
              "      <td>C'est pas mal</td>\n",
              "      <td>A1</td>\n",
              "    </tr>\n",
              "    <tr>\n",
              "      <th>3</th>\n",
              "      <td>Qu'est ce que vous faites</td>\n",
              "      <td>A1</td>\n",
              "    </tr>\n",
              "    <tr>\n",
              "      <th>4</th>\n",
              "      <td>C'est bien</td>\n",
              "      <td>A1</td>\n",
              "    </tr>\n",
              "    <tr>\n",
              "      <th>5</th>\n",
              "      <td>Ce n'est pas juste</td>\n",
              "      <td>A1</td>\n",
              "    </tr>\n",
              "    <tr>\n",
              "      <th>6</th>\n",
              "      <td>Je ne veux pas</td>\n",
              "      <td>A1</td>\n",
              "    </tr>\n",
              "    <tr>\n",
              "      <th>7</th>\n",
              "      <td>Je ne sais pas</td>\n",
              "      <td>A1</td>\n",
              "    </tr>\n",
              "    <tr>\n",
              "      <th>8</th>\n",
              "      <td>Plus que ça</td>\n",
              "      <td>A1</td>\n",
              "    </tr>\n",
              "    <tr>\n",
              "      <th>9</th>\n",
              "      <td>Non je ne le trouve pas</td>\n",
              "      <td>A1</td>\n",
              "    </tr>\n",
              "  </tbody>\n",
              "</table>\n",
              "</div>"
            ],
            "text/plain": [
              "                         Text Difficulty\n",
              "0           C'est pour quand          A1\n",
              "1      Je pense que c'est bon         A1\n",
              "2               C'est pas mal         A1\n",
              "3  Qu'est ce que vous faites          A1\n",
              "4                 C'est bien          A1\n",
              "5          Ce n'est pas juste         A1\n",
              "6              Je ne veux pas         A1\n",
              "7              Je ne sais pas         A1\n",
              "8                 Plus que ça         A1\n",
              "9    Non je ne le trouve pas          A1"
            ]
          },
          "metadata": {
            "tags": []
          },
          "execution_count": 9
        }
      ]
    },
    {
      "cell_type": "code",
      "metadata": {
        "colab": {
          "base_uri": "https://localhost:8080/"
        },
        "id": "VhBjS566Geyt",
        "outputId": "c6aee8fb-7c0a-4868-9e4c-91ff05f15ef6"
      },
      "source": [
        "#Calculating base rate (perfect base rate with 6 features is 0.16)\n",
        "max(len(Sentences[Sentences[\"Difficulty\"] =='A1']) / len(Sentences), len(Sentences[Sentences[\"Difficulty\"] == 'A2']) / len(Sentences), len(Sentences[Sentences[\"Difficulty\"] == 'B1']) / len(Sentences) , len(Sentences[Sentences[\"Difficulty\"] == 'B2']) / len(Sentences),len(Sentences[Sentences[\"Difficulty\"] == 'C1']) / len(Sentences), len(Sentences[Sentences[\"Difficulty\"] == 'C2']) / len(Sentences))"
      ],
      "execution_count": 10,
      "outputs": [
        {
          "output_type": "execute_result",
          "data": {
            "text/plain": [
              "0.16666666666666666"
            ]
          },
          "metadata": {
            "tags": []
          },
          "execution_count": 10
        }
      ]
    },
    {
      "cell_type": "code",
      "metadata": {
        "colab": {
          "base_uri": "https://localhost:8080/",
          "height": 134
        },
        "id": "mGljcP5NIM5S",
        "outputId": "6074d37e-d972-4947-b38c-e64bef933932"
      },
      "source": [
        "#Counting targets values \n",
        "display(Sentences.Difficulty.value_counts())"
      ],
      "execution_count": 11,
      "outputs": [
        {
          "output_type": "display_data",
          "data": {
            "text/plain": [
              "A2    800\n",
              "B1    800\n",
              "C2    800\n",
              "A1    800\n",
              "B2    800\n",
              "C1    800\n",
              "Name: Difficulty, dtype: int64"
            ]
          },
          "metadata": {
            "tags": []
          }
        }
      ]
    },
    {
      "cell_type": "code",
      "metadata": {
        "colab": {
          "base_uri": "https://localhost:8080/"
        },
        "id": "xrfwl36UqQXK",
        "outputId": "319b527a-4272-471f-e3c3-750d6d415a6d"
      },
      "source": [
        "#Counting targets values \n",
        "indexMax = (Sentences.shape[0] -1)\n",
        "Sentences.shape[0]"
      ],
      "execution_count": 12,
      "outputs": [
        {
          "output_type": "execute_result",
          "data": {
            "text/plain": [
              "4800"
            ]
          },
          "metadata": {
            "tags": []
          },
          "execution_count": 12
        }
      ]
    },
    {
      "cell_type": "code",
      "metadata": {
        "colab": {
          "base_uri": "https://localhost:8080/",
          "height": 202
        },
        "id": "dKKei5QCVUN1",
        "outputId": "cef11b05-a461-4b06-ae7c-9c62d1df8c2d"
      },
      "source": [
        "#Create a new dataset and add a new columns for Cognates\n",
        "df = Sentences\n",
        "df = df.assign(NumberOfCognate = 0)\n",
        "df = df.assign(Cognates = \"\")\n",
        "df.head()"
      ],
      "execution_count": 13,
      "outputs": [
        {
          "output_type": "execute_result",
          "data": {
            "text/html": [
              "<div>\n",
              "<style scoped>\n",
              "    .dataframe tbody tr th:only-of-type {\n",
              "        vertical-align: middle;\n",
              "    }\n",
              "\n",
              "    .dataframe tbody tr th {\n",
              "        vertical-align: top;\n",
              "    }\n",
              "\n",
              "    .dataframe thead th {\n",
              "        text-align: right;\n",
              "    }\n",
              "</style>\n",
              "<table border=\"1\" class=\"dataframe\">\n",
              "  <thead>\n",
              "    <tr style=\"text-align: right;\">\n",
              "      <th></th>\n",
              "      <th>Text</th>\n",
              "      <th>Difficulty</th>\n",
              "      <th>NumberOfCognate</th>\n",
              "      <th>Cognates</th>\n",
              "    </tr>\n",
              "  </thead>\n",
              "  <tbody>\n",
              "    <tr>\n",
              "      <th>0</th>\n",
              "      <td>C'est pour quand</td>\n",
              "      <td>A1</td>\n",
              "      <td>0</td>\n",
              "      <td></td>\n",
              "    </tr>\n",
              "    <tr>\n",
              "      <th>1</th>\n",
              "      <td>Je pense que c'est bon</td>\n",
              "      <td>A1</td>\n",
              "      <td>0</td>\n",
              "      <td></td>\n",
              "    </tr>\n",
              "    <tr>\n",
              "      <th>2</th>\n",
              "      <td>C'est pas mal</td>\n",
              "      <td>A1</td>\n",
              "      <td>0</td>\n",
              "      <td></td>\n",
              "    </tr>\n",
              "    <tr>\n",
              "      <th>3</th>\n",
              "      <td>Qu'est ce que vous faites</td>\n",
              "      <td>A1</td>\n",
              "      <td>0</td>\n",
              "      <td></td>\n",
              "    </tr>\n",
              "    <tr>\n",
              "      <th>4</th>\n",
              "      <td>C'est bien</td>\n",
              "      <td>A1</td>\n",
              "      <td>0</td>\n",
              "      <td></td>\n",
              "    </tr>\n",
              "  </tbody>\n",
              "</table>\n",
              "</div>"
            ],
            "text/plain": [
              "                         Text Difficulty  NumberOfCognate Cognates\n",
              "0           C'est pour quand          A1                0         \n",
              "1      Je pense que c'est bon         A1                0         \n",
              "2               C'est pas mal         A1                0         \n",
              "3  Qu'est ce que vous faites          A1                0         \n",
              "4                 C'est bien          A1                0         "
            ]
          },
          "metadata": {
            "tags": []
          },
          "execution_count": 13
        }
      ]
    },
    {
      "cell_type": "code",
      "metadata": {
        "id": "EKULu75A6iyW"
      },
      "source": [
        "#Tokenizer sentences with spacy for French language\n",
        "sp = spacy.load('fr_core_news_sm')\n",
        "index = 0\n",
        "data = list(zip(Sentences[\"Text\"],Sentences[\"Difficulty\"]))\n",
        "datawords = []\n",
        "for t, label in data:\n",
        "  list_of_strings = sp(t)\n",
        "  token = []\n",
        "  cognates =\"\"\n",
        "  score=0\n",
        "  for i in list_of_strings:\n",
        "    token.append(i.text)\n",
        "    # Duplicate the Cognates on the sentences (add weight) and count the Cognates per sentences\n",
        "    if str(i.text) in ListCognates:\n",
        "      score+=1 \n",
        "      token.append(i.text)\n",
        "      cognates = cognates + \" \" + str(i.text)\n",
        "  if index <=indexMax:\n",
        "    df.at[index,'Cognates']= cognates\n",
        "    df.at[index,'NumberOfCognate']= int(score)\n",
        "    index += 1\n",
        "  datawords.append([token, label])"
      ],
      "execution_count": 14,
      "outputs": []
    },
    {
      "cell_type": "code",
      "metadata": {
        "id": "E8c4rqMj6Tv-",
        "colab": {
          "base_uri": "https://localhost:8080/",
          "height": 416
        },
        "outputId": "7510101b-46a9-464e-a494-cde31e203639"
      },
      "source": [
        "# Data set with the identified Cognates for each Sentences\n",
        "df.head(-1)"
      ],
      "execution_count": 15,
      "outputs": [
        {
          "output_type": "execute_result",
          "data": {
            "text/html": [
              "<div>\n",
              "<style scoped>\n",
              "    .dataframe tbody tr th:only-of-type {\n",
              "        vertical-align: middle;\n",
              "    }\n",
              "\n",
              "    .dataframe tbody tr th {\n",
              "        vertical-align: top;\n",
              "    }\n",
              "\n",
              "    .dataframe thead th {\n",
              "        text-align: right;\n",
              "    }\n",
              "</style>\n",
              "<table border=\"1\" class=\"dataframe\">\n",
              "  <thead>\n",
              "    <tr style=\"text-align: right;\">\n",
              "      <th></th>\n",
              "      <th>Text</th>\n",
              "      <th>Difficulty</th>\n",
              "      <th>NumberOfCognate</th>\n",
              "      <th>Cognates</th>\n",
              "    </tr>\n",
              "  </thead>\n",
              "  <tbody>\n",
              "    <tr>\n",
              "      <th>0</th>\n",
              "      <td>C'est pour quand</td>\n",
              "      <td>A1</td>\n",
              "      <td>0</td>\n",
              "      <td></td>\n",
              "    </tr>\n",
              "    <tr>\n",
              "      <th>1</th>\n",
              "      <td>Je pense que c'est bon</td>\n",
              "      <td>A1</td>\n",
              "      <td>0</td>\n",
              "      <td></td>\n",
              "    </tr>\n",
              "    <tr>\n",
              "      <th>2</th>\n",
              "      <td>C'est pas mal</td>\n",
              "      <td>A1</td>\n",
              "      <td>0</td>\n",
              "      <td></td>\n",
              "    </tr>\n",
              "    <tr>\n",
              "      <th>3</th>\n",
              "      <td>Qu'est ce que vous faites</td>\n",
              "      <td>A1</td>\n",
              "      <td>0</td>\n",
              "      <td></td>\n",
              "    </tr>\n",
              "    <tr>\n",
              "      <th>4</th>\n",
              "      <td>C'est bien</td>\n",
              "      <td>A1</td>\n",
              "      <td>0</td>\n",
              "      <td></td>\n",
              "    </tr>\n",
              "    <tr>\n",
              "      <th>...</th>\n",
              "      <td>...</td>\n",
              "      <td>...</td>\n",
              "      <td>...</td>\n",
              "      <td>...</td>\n",
              "    </tr>\n",
              "    <tr>\n",
              "      <th>4794</th>\n",
              "      <td>Le jardin commença à fleurir après qu'il se fut mis à faire chaud</td>\n",
              "      <td>C2</td>\n",
              "      <td>1</td>\n",
              "      <td>jardin</td>\n",
              "    </tr>\n",
              "    <tr>\n",
              "      <th>4795</th>\n",
              "      <td>Le problème va du garçon de café tentant inintelligiblement de communiquer avec des touristes médusés jusque comme on l'a vu aux niveaux les plus élevés de la société française</td>\n",
              "      <td>C2</td>\n",
              "      <td>2</td>\n",
              "      <td>problème plus</td>\n",
              "    </tr>\n",
              "    <tr>\n",
              "      <th>4796</th>\n",
              "      <td>Les lois de programmation mentionnées à l'antépénultième alinéa de l'article  de la Constitution ont pour objet de déterminer les objectifs de l'action de l'État</td>\n",
              "      <td>C2</td>\n",
              "      <td>4</td>\n",
              "      <td>article objet déterminer action</td>\n",
              "    </tr>\n",
              "    <tr>\n",
              "      <th>4797</th>\n",
              "      <td>La conscience malheureuse c'est donc le mauvais infini tel que la philosophie de Fichte amène à le concevoir</td>\n",
              "      <td>C2</td>\n",
              "      <td>1</td>\n",
              "      <td>conscience</td>\n",
              "    </tr>\n",
              "    <tr>\n",
              "      <th>4798</th>\n",
              "      <td>Comme Monsieur un informaticien fondateur de la librairie des maths pour qui il y a tellement de manières d'aimer les mathématiques qu'il propose de nombreux produits plus ou moins littéraires plus ou moins ludiques</td>\n",
              "      <td>C2</td>\n",
              "      <td>2</td>\n",
              "      <td>plus plus</td>\n",
              "    </tr>\n",
              "  </tbody>\n",
              "</table>\n",
              "<p>4799 rows × 4 columns</p>\n",
              "</div>"
            ],
            "text/plain": [
              "                                                                                                                                                                                                                         Text  ...                          Cognates\n",
              "0                                                                                                                                                                                                           C'est pour quand   ...                                  \n",
              "1                                                                                                                                                                                                      Je pense que c'est bon  ...                                  \n",
              "2                                                                                                                                                                                                               C'est pas mal  ...                                  \n",
              "3                                                                                                                                                                                                  Qu'est ce que vous faites   ...                                  \n",
              "4                                                                                                                                                                                                                 C'est bien   ...                                  \n",
              "...                                                                                                                                                                                                                       ...  ...                               ...\n",
              "4794                                                                                                                                                        Le jardin commença à fleurir après qu'il se fut mis à faire chaud  ...                            jardin\n",
              "4795                                         Le problème va du garçon de café tentant inintelligiblement de communiquer avec des touristes médusés jusque comme on l'a vu aux niveaux les plus élevés de la société française  ...                     problème plus\n",
              "4796                                                        Les lois de programmation mentionnées à l'antépénultième alinéa de l'article  de la Constitution ont pour objet de déterminer les objectifs de l'action de l'État  ...   article objet déterminer action\n",
              "4797                                                                                                             La conscience malheureuse c'est donc le mauvais infini tel que la philosophie de Fichte amène à le concevoir  ...                        conscience\n",
              "4798  Comme Monsieur un informaticien fondateur de la librairie des maths pour qui il y a tellement de manières d'aimer les mathématiques qu'il propose de nombreux produits plus ou moins littéraires plus ou moins ludiques  ...                         plus plus\n",
              "\n",
              "[4799 rows x 4 columns]"
            ]
          },
          "metadata": {
            "tags": []
          },
          "execution_count": 15
        }
      ]
    },
    {
      "cell_type": "code",
      "metadata": {
        "colab": {
          "base_uri": "https://localhost:8080/",
          "height": 213
        },
        "id": "PLV_jLUxfL3V",
        "outputId": "1015a003-35a6-4e7f-db4f-a5a5912eafa7"
      },
      "source": [
        "# Cognates Analysis\n",
        "cognatesSum = df.NumberOfCognate.sum()\n",
        "print(\"We found in total : \", cognatesSum, \"cognates.\")\n",
        "print(\"The sentence with the most cognates is :\")\n",
        "df.sort_values(by=['NumberOfCognate'],ascending=False).head(1)"
      ],
      "execution_count": 16,
      "outputs": [
        {
          "output_type": "stream",
          "text": [
            "We found in total :  3798 cognates.\n",
            "The sentence with the most cognates is :\n"
          ],
          "name": "stdout"
        },
        {
          "output_type": "execute_result",
          "data": {
            "text/html": [
              "<div>\n",
              "<style scoped>\n",
              "    .dataframe tbody tr th:only-of-type {\n",
              "        vertical-align: middle;\n",
              "    }\n",
              "\n",
              "    .dataframe tbody tr th {\n",
              "        vertical-align: top;\n",
              "    }\n",
              "\n",
              "    .dataframe thead th {\n",
              "        text-align: right;\n",
              "    }\n",
              "</style>\n",
              "<table border=\"1\" class=\"dataframe\">\n",
              "  <thead>\n",
              "    <tr style=\"text-align: right;\">\n",
              "      <th></th>\n",
              "      <th>Text</th>\n",
              "      <th>Difficulty</th>\n",
              "      <th>NumberOfCognate</th>\n",
              "      <th>Cognates</th>\n",
              "    </tr>\n",
              "  </thead>\n",
              "  <tbody>\n",
              "    <tr>\n",
              "      <th>4383</th>\n",
              "      <td>Ceci dit il reste qu'entre l'ovule et le spermatozoïde on observe des différences secondaires des plus intéressantes  la singularité essentielle de l'ovule c'est qu'il est chargé de matériaux destinés à nourrir et à protéger l'embryon  il accumule des réserves aux dépens desquelles le foetus édifiera ses tissus réserves qui sont non une substance vivante mais une matière inerte  il en résulte qu'il présente une forme massive sphérique ou ellipsoïdale et qu'il est relativement volumineux  on sait quelles dimensions atteint l'oeuf de l'oiseau  chez la femme l'ovule mesure   mm de diamètre  tandis que dans le sperme humain on trouve   spermatozoïdes par millimètre cube  la masse du spermatozoïde est extrêmement réduite il a une queue filiforme une petite tête allongée aucune substance étrangère ne l'alourdit il est tout entier vie  cette structure le voue à la mobilité  au lieu que l'ovule où se trouve engrangé l'avenir du foetus est un élément fixe  enfermé dans l'organisme femelle ou suspendu dans un milieu extérieur il attend passivement la fécondation  c'est le gamète mâle qui va à sa recherche  le spermatozoïde est toujours une cellule nue l'ovule est selon les espèces protégé ou non par une membrane  mais en tout cas dès que le spermatozoïde entre en contact avec lui il le bouscule le fait osciller et s'infiltre en lui  le gamète mâle abandonne sa queue sa tête se gonfle et d'un mouvement tournant gagne le noyau  pendant ce temps l'oeuf forme aussitôt une membrane qui le ferme aux autres spermatozoïdes</td>\n",
              "      <td>C2</td>\n",
              "      <td>10</td>\n",
              "      <td>plus substance humain cube substance structure organisme membrane contact membrane</td>\n",
              "    </tr>\n",
              "  </tbody>\n",
              "</table>\n",
              "</div>"
            ],
            "text/plain": [
              "                                                                                                                                                                                                                                                                                                                                                                                                                                                                                                                                                                                                                                                                                                                                                                                                                                                                                                                                                                                                                                                                                                                                                                                                                                                                                                                                                                                                                                                                                                                                                                                            Text  ...                                                                             Cognates\n",
              "4383  Ceci dit il reste qu'entre l'ovule et le spermatozoïde on observe des différences secondaires des plus intéressantes  la singularité essentielle de l'ovule c'est qu'il est chargé de matériaux destinés à nourrir et à protéger l'embryon  il accumule des réserves aux dépens desquelles le foetus édifiera ses tissus réserves qui sont non une substance vivante mais une matière inerte  il en résulte qu'il présente une forme massive sphérique ou ellipsoïdale et qu'il est relativement volumineux  on sait quelles dimensions atteint l'oeuf de l'oiseau  chez la femme l'ovule mesure   mm de diamètre  tandis que dans le sperme humain on trouve   spermatozoïdes par millimètre cube  la masse du spermatozoïde est extrêmement réduite il a une queue filiforme une petite tête allongée aucune substance étrangère ne l'alourdit il est tout entier vie  cette structure le voue à la mobilité  au lieu que l'ovule où se trouve engrangé l'avenir du foetus est un élément fixe  enfermé dans l'organisme femelle ou suspendu dans un milieu extérieur il attend passivement la fécondation  c'est le gamète mâle qui va à sa recherche  le spermatozoïde est toujours une cellule nue l'ovule est selon les espèces protégé ou non par une membrane  mais en tout cas dès que le spermatozoïde entre en contact avec lui il le bouscule le fait osciller et s'infiltre en lui  le gamète mâle abandonne sa queue sa tête se gonfle et d'un mouvement tournant gagne le noyau  pendant ce temps l'oeuf forme aussitôt une membrane qui le ferme aux autres spermatozoïdes  ...   plus substance humain cube substance structure organisme membrane contact membrane\n",
              "\n",
              "[1 rows x 4 columns]"
            ]
          },
          "metadata": {
            "tags": []
          },
          "execution_count": 16
        }
      ]
    },
    {
      "cell_type": "code",
      "metadata": {
        "colab": {
          "base_uri": "https://localhost:8080/",
          "height": 416
        },
        "id": "N294OIs6crxg",
        "outputId": "7583cb82-922c-4401-bf72-125f968eea08"
      },
      "source": [
        "# Data set for the first iteration : with the number of cognates for each sentences.\n",
        "FirstIteration = pd.DataFrame()\n",
        "FirstIteration['Text'] = df['Text'].astype('string') + ' ' +df['NumberOfCognate'].astype('string')\n",
        "FirstIteration['label'] = df['Difficulty']\n",
        "FirstIteration.head(-1)"
      ],
      "execution_count": 17,
      "outputs": [
        {
          "output_type": "execute_result",
          "data": {
            "text/html": [
              "<div>\n",
              "<style scoped>\n",
              "    .dataframe tbody tr th:only-of-type {\n",
              "        vertical-align: middle;\n",
              "    }\n",
              "\n",
              "    .dataframe tbody tr th {\n",
              "        vertical-align: top;\n",
              "    }\n",
              "\n",
              "    .dataframe thead th {\n",
              "        text-align: right;\n",
              "    }\n",
              "</style>\n",
              "<table border=\"1\" class=\"dataframe\">\n",
              "  <thead>\n",
              "    <tr style=\"text-align: right;\">\n",
              "      <th></th>\n",
              "      <th>Text</th>\n",
              "      <th>label</th>\n",
              "    </tr>\n",
              "  </thead>\n",
              "  <tbody>\n",
              "    <tr>\n",
              "      <th>0</th>\n",
              "      <td>C'est pour quand  0</td>\n",
              "      <td>A1</td>\n",
              "    </tr>\n",
              "    <tr>\n",
              "      <th>1</th>\n",
              "      <td>Je pense que c'est bon 0</td>\n",
              "      <td>A1</td>\n",
              "    </tr>\n",
              "    <tr>\n",
              "      <th>2</th>\n",
              "      <td>C'est pas mal 0</td>\n",
              "      <td>A1</td>\n",
              "    </tr>\n",
              "    <tr>\n",
              "      <th>3</th>\n",
              "      <td>Qu'est ce que vous faites  0</td>\n",
              "      <td>A1</td>\n",
              "    </tr>\n",
              "    <tr>\n",
              "      <th>4</th>\n",
              "      <td>C'est bien  0</td>\n",
              "      <td>A1</td>\n",
              "    </tr>\n",
              "    <tr>\n",
              "      <th>...</th>\n",
              "      <td>...</td>\n",
              "      <td>...</td>\n",
              "    </tr>\n",
              "    <tr>\n",
              "      <th>4794</th>\n",
              "      <td>Le jardin commença à fleurir après qu'il se fut mis à faire chaud 1</td>\n",
              "      <td>C2</td>\n",
              "    </tr>\n",
              "    <tr>\n",
              "      <th>4795</th>\n",
              "      <td>Le problème va du garçon de café tentant inintelligiblement de communiquer avec des touristes médusés jusque comme on l'a vu aux niveaux les plus élevés de la société française 2</td>\n",
              "      <td>C2</td>\n",
              "    </tr>\n",
              "    <tr>\n",
              "      <th>4796</th>\n",
              "      <td>Les lois de programmation mentionnées à l'antépénultième alinéa de l'article  de la Constitution ont pour objet de déterminer les objectifs de l'action de l'État 4</td>\n",
              "      <td>C2</td>\n",
              "    </tr>\n",
              "    <tr>\n",
              "      <th>4797</th>\n",
              "      <td>La conscience malheureuse c'est donc le mauvais infini tel que la philosophie de Fichte amène à le concevoir 1</td>\n",
              "      <td>C2</td>\n",
              "    </tr>\n",
              "    <tr>\n",
              "      <th>4798</th>\n",
              "      <td>Comme Monsieur un informaticien fondateur de la librairie des maths pour qui il y a tellement de manières d'aimer les mathématiques qu'il propose de nombreux produits plus ou moins littéraires plus ou moins ludiques 2</td>\n",
              "      <td>C2</td>\n",
              "    </tr>\n",
              "  </tbody>\n",
              "</table>\n",
              "<p>4799 rows × 2 columns</p>\n",
              "</div>"
            ],
            "text/plain": [
              "                                                                                                                                                                                                                           Text label\n",
              "0                                                                                                                                                                                                           C'est pour quand  0    A1\n",
              "1                                                                                                                                                                                                      Je pense que c'est bon 0    A1\n",
              "2                                                                                                                                                                                                               C'est pas mal 0    A1\n",
              "3                                                                                                                                                                                                  Qu'est ce que vous faites  0    A1\n",
              "4                                                                                                                                                                                                                 C'est bien  0    A1\n",
              "...                                                                                                                                                                                                                         ...   ...\n",
              "4794                                                                                                                                                        Le jardin commença à fleurir après qu'il se fut mis à faire chaud 1    C2\n",
              "4795                                         Le problème va du garçon de café tentant inintelligiblement de communiquer avec des touristes médusés jusque comme on l'a vu aux niveaux les plus élevés de la société française 2    C2\n",
              "4796                                                        Les lois de programmation mentionnées à l'antépénultième alinéa de l'article  de la Constitution ont pour objet de déterminer les objectifs de l'action de l'État 4    C2\n",
              "4797                                                                                                             La conscience malheureuse c'est donc le mauvais infini tel que la philosophie de Fichte amène à le concevoir 1    C2\n",
              "4798  Comme Monsieur un informaticien fondateur de la librairie des maths pour qui il y a tellement de manières d'aimer les mathématiques qu'il propose de nombreux produits plus ou moins littéraires plus ou moins ludiques 2    C2\n",
              "\n",
              "[4799 rows x 2 columns]"
            ]
          },
          "metadata": {
            "tags": []
          },
          "execution_count": 17
        }
      ]
    },
    {
      "cell_type": "code",
      "metadata": {
        "colab": {
          "base_uri": "https://localhost:8080/",
          "height": 416
        },
        "id": "ABbj8InAN1lI",
        "outputId": "696ca6e1-ee49-4ba0-fc78-a18393e708e1"
      },
      "source": [
        "# Data set for second iteration : with tokenized sentences and with duplicate congantes\n",
        "SecondIteration = pd.DataFrame(datawords, columns=[\"Text\", \"Label\"])\n",
        "SecondIteration.head(-1)"
      ],
      "execution_count": 18,
      "outputs": [
        {
          "output_type": "execute_result",
          "data": {
            "text/html": [
              "<div>\n",
              "<style scoped>\n",
              "    .dataframe tbody tr th:only-of-type {\n",
              "        vertical-align: middle;\n",
              "    }\n",
              "\n",
              "    .dataframe tbody tr th {\n",
              "        vertical-align: top;\n",
              "    }\n",
              "\n",
              "    .dataframe thead th {\n",
              "        text-align: right;\n",
              "    }\n",
              "</style>\n",
              "<table border=\"1\" class=\"dataframe\">\n",
              "  <thead>\n",
              "    <tr style=\"text-align: right;\">\n",
              "      <th></th>\n",
              "      <th>Text</th>\n",
              "      <th>Label</th>\n",
              "    </tr>\n",
              "  </thead>\n",
              "  <tbody>\n",
              "    <tr>\n",
              "      <th>0</th>\n",
              "      <td>[C', est, pour, quand]</td>\n",
              "      <td>A1</td>\n",
              "    </tr>\n",
              "    <tr>\n",
              "      <th>1</th>\n",
              "      <td>[Je, pense, que, c', est, bon]</td>\n",
              "      <td>A1</td>\n",
              "    </tr>\n",
              "    <tr>\n",
              "      <th>2</th>\n",
              "      <td>[C', est, pas, mal]</td>\n",
              "      <td>A1</td>\n",
              "    </tr>\n",
              "    <tr>\n",
              "      <th>3</th>\n",
              "      <td>[Qu', est, ce, que, vous, faites]</td>\n",
              "      <td>A1</td>\n",
              "    </tr>\n",
              "    <tr>\n",
              "      <th>4</th>\n",
              "      <td>[C', est, bien]</td>\n",
              "      <td>A1</td>\n",
              "    </tr>\n",
              "    <tr>\n",
              "      <th>...</th>\n",
              "      <td>...</td>\n",
              "      <td>...</td>\n",
              "    </tr>\n",
              "    <tr>\n",
              "      <th>4794</th>\n",
              "      <td>[Le, jardin, jardin, commença, à, fleurir, après, qu', il, se, fut, mis, à, faire, chaud]</td>\n",
              "      <td>C2</td>\n",
              "    </tr>\n",
              "    <tr>\n",
              "      <th>4795</th>\n",
              "      <td>[Le, problème, problème, va, du, garçon, de, café, tentant, inintelligiblement, de, communiquer, avec, des, touristes, médusés, jusque, comme, on, l', a, vu, aux, niveaux, les, plus, plus, élevés, de, la, société, française]</td>\n",
              "      <td>C2</td>\n",
              "    </tr>\n",
              "    <tr>\n",
              "      <th>4796</th>\n",
              "      <td>[Les, lois, de, programmation, mentionnées, à, l', antépénultième, alinéa, de, l', article, article,  , de, la, Constitution, ont, pour, objet, objet, de, déterminer, déterminer, les, objectifs, de, l', action, action, de, l', État]</td>\n",
              "      <td>C2</td>\n",
              "    </tr>\n",
              "    <tr>\n",
              "      <th>4797</th>\n",
              "      <td>[La, conscience, conscience, malheureuse, c', est, donc, le, mauvais, infini, tel, que, la, philosophie, de, Fichte, amène, à, le, concevoir]</td>\n",
              "      <td>C2</td>\n",
              "    </tr>\n",
              "    <tr>\n",
              "      <th>4798</th>\n",
              "      <td>[Comme, Monsieur, un, informaticien, fondateur, de, la, librairie, des, maths, pour, qui, il, y, a, tellement, de, manières, d', aimer, les, mathématiques, qu', il, propose, de, nombreux, produits, plus, plus, ou, moins, littéraires, plus, plus, ou, moins, ludiques]</td>\n",
              "      <td>C2</td>\n",
              "    </tr>\n",
              "  </tbody>\n",
              "</table>\n",
              "<p>4799 rows × 2 columns</p>\n",
              "</div>"
            ],
            "text/plain": [
              "                                                                                                                                                                                                                                                                            Text Label\n",
              "0                                                                                                                                                                                                                                                         [C', est, pour, quand]    A1\n",
              "1                                                                                                                                                                                                                                                 [Je, pense, que, c', est, bon]    A1\n",
              "2                                                                                                                                                                                                                                                            [C', est, pas, mal]    A1\n",
              "3                                                                                                                                                                                                                                              [Qu', est, ce, que, vous, faites]    A1\n",
              "4                                                                                                                                                                                                                                                                [C', est, bien]    A1\n",
              "...                                                                                                                                                                                                                                                                          ...   ...\n",
              "4794                                                                                                                                                                                   [Le, jardin, jardin, commença, à, fleurir, après, qu', il, se, fut, mis, à, faire, chaud]    C2\n",
              "4795                                            [Le, problème, problème, va, du, garçon, de, café, tentant, inintelligiblement, de, communiquer, avec, des, touristes, médusés, jusque, comme, on, l', a, vu, aux, niveaux, les, plus, plus, élevés, de, la, société, française]    C2\n",
              "4796                                    [Les, lois, de, programmation, mentionnées, à, l', antépénultième, alinéa, de, l', article, article,  , de, la, Constitution, ont, pour, objet, objet, de, déterminer, déterminer, les, objectifs, de, l', action, action, de, l', État]    C2\n",
              "4797                                                                                                                               [La, conscience, conscience, malheureuse, c', est, donc, le, mauvais, infini, tel, que, la, philosophie, de, Fichte, amène, à, le, concevoir]    C2\n",
              "4798  [Comme, Monsieur, un, informaticien, fondateur, de, la, librairie, des, maths, pour, qui, il, y, a, tellement, de, manières, d', aimer, les, mathématiques, qu', il, propose, de, nombreux, produits, plus, plus, ou, moins, littéraires, plus, plus, ou, moins, ludiques]    C2\n",
              "\n",
              "[4799 rows x 2 columns]"
            ]
          },
          "metadata": {
            "tags": []
          },
          "execution_count": 18
        }
      ]
    },
    {
      "cell_type": "code",
      "metadata": {
        "colab": {
          "base_uri": "https://localhost:8080/",
          "height": 416
        },
        "id": "k9O2c2QGb9KH",
        "outputId": "696434d0-41ae-4dc3-dcba-3c474d178677"
      },
      "source": [
        "# Data set for the third iteration : \n",
        "FinalData = pd.DataFrame()\n",
        "FinalData['Text'] = df['Text'].astype('string') + df['Cognates'].astype('string')\n",
        "FinalData['label'] = df['Difficulty']\n",
        "FinalData.head(-1)"
      ],
      "execution_count": 19,
      "outputs": [
        {
          "output_type": "execute_result",
          "data": {
            "text/html": [
              "<div>\n",
              "<style scoped>\n",
              "    .dataframe tbody tr th:only-of-type {\n",
              "        vertical-align: middle;\n",
              "    }\n",
              "\n",
              "    .dataframe tbody tr th {\n",
              "        vertical-align: top;\n",
              "    }\n",
              "\n",
              "    .dataframe thead th {\n",
              "        text-align: right;\n",
              "    }\n",
              "</style>\n",
              "<table border=\"1\" class=\"dataframe\">\n",
              "  <thead>\n",
              "    <tr style=\"text-align: right;\">\n",
              "      <th></th>\n",
              "      <th>Text</th>\n",
              "      <th>label</th>\n",
              "    </tr>\n",
              "  </thead>\n",
              "  <tbody>\n",
              "    <tr>\n",
              "      <th>0</th>\n",
              "      <td>C'est pour quand</td>\n",
              "      <td>A1</td>\n",
              "    </tr>\n",
              "    <tr>\n",
              "      <th>1</th>\n",
              "      <td>Je pense que c'est bon</td>\n",
              "      <td>A1</td>\n",
              "    </tr>\n",
              "    <tr>\n",
              "      <th>2</th>\n",
              "      <td>C'est pas mal</td>\n",
              "      <td>A1</td>\n",
              "    </tr>\n",
              "    <tr>\n",
              "      <th>3</th>\n",
              "      <td>Qu'est ce que vous faites</td>\n",
              "      <td>A1</td>\n",
              "    </tr>\n",
              "    <tr>\n",
              "      <th>4</th>\n",
              "      <td>C'est bien</td>\n",
              "      <td>A1</td>\n",
              "    </tr>\n",
              "    <tr>\n",
              "      <th>...</th>\n",
              "      <td>...</td>\n",
              "      <td>...</td>\n",
              "    </tr>\n",
              "    <tr>\n",
              "      <th>4794</th>\n",
              "      <td>Le jardin commença à fleurir après qu'il se fut mis à faire chaud jardin</td>\n",
              "      <td>C2</td>\n",
              "    </tr>\n",
              "    <tr>\n",
              "      <th>4795</th>\n",
              "      <td>Le problème va du garçon de café tentant inintelligiblement de communiquer avec des touristes médusés jusque comme on l'a vu aux niveaux les plus élevés de la société française problème plus</td>\n",
              "      <td>C2</td>\n",
              "    </tr>\n",
              "    <tr>\n",
              "      <th>4796</th>\n",
              "      <td>Les lois de programmation mentionnées à l'antépénultième alinéa de l'article  de la Constitution ont pour objet de déterminer les objectifs de l'action de l'État article objet déterminer action</td>\n",
              "      <td>C2</td>\n",
              "    </tr>\n",
              "    <tr>\n",
              "      <th>4797</th>\n",
              "      <td>La conscience malheureuse c'est donc le mauvais infini tel que la philosophie de Fichte amène à le concevoir conscience</td>\n",
              "      <td>C2</td>\n",
              "    </tr>\n",
              "    <tr>\n",
              "      <th>4798</th>\n",
              "      <td>Comme Monsieur un informaticien fondateur de la librairie des maths pour qui il y a tellement de manières d'aimer les mathématiques qu'il propose de nombreux produits plus ou moins littéraires plus ou moins ludiques plus plus</td>\n",
              "      <td>C2</td>\n",
              "    </tr>\n",
              "  </tbody>\n",
              "</table>\n",
              "<p>4799 rows × 2 columns</p>\n",
              "</div>"
            ],
            "text/plain": [
              "                                                                                                                                                                                                                                   Text label\n",
              "0                                                                                                                                                                                                                     C'est pour quand     A1\n",
              "1                                                                                                                                                                                                                Je pense que c'est bon    A1\n",
              "2                                                                                                                                                                                                                         C'est pas mal    A1\n",
              "3                                                                                                                                                                                                            Qu'est ce que vous faites     A1\n",
              "4                                                                                                                                                                                                                           C'est bien     A1\n",
              "...                                                                                                                                                                                                                                 ...   ...\n",
              "4794                                                                                                                                                           Le jardin commença à fleurir après qu'il se fut mis à faire chaud jardin    C2\n",
              "4795                                     Le problème va du garçon de café tentant inintelligiblement de communiquer avec des touristes médusés jusque comme on l'a vu aux niveaux les plus élevés de la société française problème plus    C2\n",
              "4796                                  Les lois de programmation mentionnées à l'antépénultième alinéa de l'article  de la Constitution ont pour objet de déterminer les objectifs de l'action de l'État article objet déterminer action    C2\n",
              "4797                                                                                                            La conscience malheureuse c'est donc le mauvais infini tel que la philosophie de Fichte amène à le concevoir conscience    C2\n",
              "4798  Comme Monsieur un informaticien fondateur de la librairie des maths pour qui il y a tellement de manières d'aimer les mathématiques qu'il propose de nombreux produits plus ou moins littéraires plus ou moins ludiques plus plus    C2\n",
              "\n",
              "[4799 rows x 2 columns]"
            ]
          },
          "metadata": {
            "tags": []
          },
          "execution_count": 19
        }
      ]
    },
    {
      "cell_type": "code",
      "metadata": {
        "colab": {
          "base_uri": "https://localhost:8080/",
          "height": 456
        },
        "id": "vAUQH-k9zNux",
        "outputId": "b0d1bdad-3eb0-4ff4-8116-b755b6cce84a"
      },
      "source": [
        "display(FinalData.shape, FinalData.info(), FinalData.describe)"
      ],
      "execution_count": 20,
      "outputs": [
        {
          "output_type": "stream",
          "text": [
            "<class 'pandas.core.frame.DataFrame'>\n",
            "RangeIndex: 4800 entries, 0 to 4799\n",
            "Data columns (total 2 columns):\n",
            " #   Column  Non-Null Count  Dtype \n",
            "---  ------  --------------  ----- \n",
            " 0   Text    4800 non-null   string\n",
            " 1   label   4800 non-null   object\n",
            "dtypes: object(1), string(1)\n",
            "memory usage: 75.1+ KB\n"
          ],
          "name": "stdout"
        },
        {
          "output_type": "display_data",
          "data": {
            "text/plain": [
              "(4800, 2)"
            ]
          },
          "metadata": {
            "tags": []
          }
        },
        {
          "output_type": "display_data",
          "data": {
            "text/plain": [
              "None"
            ]
          },
          "metadata": {
            "tags": []
          }
        },
        {
          "output_type": "display_data",
          "data": {
            "text/plain": [
              "<bound method NDFrame.describe of                                                                                                                                                                                                                                    Text label\n",
              "0                                                                                                                                                                                                                     C'est pour quand     A1\n",
              "1                                                                                                                                                                                                                Je pense que c'est bon    A1\n",
              "2                                                                                                                                                                                                                         C'est pas mal    A1\n",
              "3                                                                                                                                                                                                            Qu'est ce que vous faites     A1\n",
              "4                                                                                                                                                                                                                           C'est bien     A1\n",
              "...                                                                                                                                                                                                                                 ...   ...\n",
              "4795                                     Le problème va du garçon de café tentant inintelligiblement de communiquer avec des touristes médusés jusque comme on l'a vu aux niveaux les plus élevés de la société française problème plus    C2\n",
              "4796                                  Les lois de programmation mentionnées à l'antépénultième alinéa de l'article  de la Constitution ont pour objet de déterminer les objectifs de l'action de l'État article objet déterminer action    C2\n",
              "4797                                                                                                            La conscience malheureuse c'est donc le mauvais infini tel que la philosophie de Fichte amène à le concevoir conscience    C2\n",
              "4798  Comme Monsieur un informaticien fondateur de la librairie des maths pour qui il y a tellement de manières d'aimer les mathématiques qu'il propose de nombreux produits plus ou moins littéraires plus ou moins ludiques plus plus    C2\n",
              "4799                                                                                                                                     Un passager peut se tenir à califourchon derrière le pilote si la motocyclette est conçue pour    C2\n",
              "\n",
              "[4800 rows x 2 columns]>"
            ]
          },
          "metadata": {
            "tags": []
          }
        }
      ]
    },
    {
      "cell_type": "code",
      "metadata": {
        "id": "L-a5nkA2yfQP"
      },
      "source": [
        "FirstIteration.to_csv('FirstIteration.csv', encoding='utf-8-sig', index=False)\n",
        "SecondIteration.to_csv('SecondIteration.csv', encoding='utf-8-sig', index=False)\n",
        "FinalData.to_csv('ThirdIteration.csv', encoding='utf-8-sig', index=False)"
      ],
      "execution_count": 21,
      "outputs": []
    }
  ]
}